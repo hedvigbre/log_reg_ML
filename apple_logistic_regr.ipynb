{
  "nbformat": 4,
  "nbformat_minor": 0,
  "metadata": {
    "colab": {
      "name": "apple_logistic_regr.ipynb",
      "provenance": [],
      "collapsed_sections": [],
      "toc_visible": true
    },
    "kernelspec": {
      "name": "python3",
      "display_name": "Python 3"
    }
  },
  "cells": [
    {
      "cell_type": "markdown",
      "metadata": {
        "id": "UrukpX0Jdlr2"
      },
      "source": [
        "# Predictive Marketing Classification using Logistic Regression\n",
        "The goal of this project is to predict new buyers of one of the new m1 macs that apple first released last november. To collect the data, a survey has been conducted to gather relevant customer data. The dataset consists of a number of features relevant to a m1 purchase, such as current apple product and interest in computers, in addition to personal information like age and occupation. The aim of the analysis is to understand which features have the stongest relation to the (y), and to to use them (x) to fit a model that can predict if new customers will buy one of the new m1 macbooks or not. The algorithm used will be Logistic Regression from sklearn. "
      ]
    },
    {
      "cell_type": "code",
      "metadata": {
        "id": "BmCQi8Xztg3K"
      },
      "source": [
        "#importing the packages\n",
        "import numpy as np \n",
        "import pandas as pd\n",
        "from matplotlib import pyplot as plt\n",
        "import seaborn as sns\n",
        "from sklearn import datasets\n",
        "from sklearn.linear_model import LinearRegression\n",
        "from sklearn.linear_model import LogisticRegression\n",
        "from sklearn.tree import DecisionTreeClassifier\n",
        "from sklearn import model_selection\n",
        "from sklearn.model_selection import KFold\n",
        "from sklearn.model_selection import StratifiedKFold\n",
        "from sklearn.model_selection import train_test_split\n",
        "from sklearn.metrics import r2_score, explained_variance_score, confusion_matrix, accuracy_score, classification_report, log_loss\n",
        "from math import sqrt\n",
        "from sklearn.metrics import confusion_matrix\n",
        "from sklearn.preprocessing import StandardScaler\n",
        "from termcolor import colored as cl"
      ],
      "execution_count": 40,
      "outputs": []
    },
    {
      "cell_type": "code",
      "metadata": {
        "id": "hkX9UrHWuEXj"
      },
      "source": [
        "#loading the dataset \n",
        "apple = pd.read_csv(\"applem1_data_final.csv\")"
      ],
      "execution_count": 41,
      "outputs": []
    },
    {
      "cell_type": "code",
      "metadata": {
        "colab": {
          "base_uri": "https://localhost:8080/",
          "height": 507
        },
        "id": "GpMKGmjbcL42",
        "outputId": "76850faf-3e19-46f7-92d0-cd8d3c60b692"
      },
      "source": [
        "#displaying the df named apple\n",
        "apple"
      ],
      "execution_count": 42,
      "outputs": [
        {
          "output_type": "execute_result",
          "data": {
            "text/html": [
              "<div>\n",
              "<style scoped>\n",
              "    .dataframe tbody tr th:only-of-type {\n",
              "        vertical-align: middle;\n",
              "    }\n",
              "\n",
              "    .dataframe tbody tr th {\n",
              "        vertical-align: top;\n",
              "    }\n",
              "\n",
              "    .dataframe thead th {\n",
              "        text-align: right;\n",
              "    }\n",
              "</style>\n",
              "<table border=\"1\" class=\"dataframe\">\n",
              "  <thead>\n",
              "    <tr style=\"text-align: right;\">\n",
              "      <th></th>\n",
              "      <th>trust_apple</th>\n",
              "      <th>interest_computers</th>\n",
              "      <th>age_computer</th>\n",
              "      <th>user_pcmac</th>\n",
              "      <th>appleproducts_count</th>\n",
              "      <th>familiarity_m1</th>\n",
              "      <th>f_batterylife</th>\n",
              "      <th>f_price</th>\n",
              "      <th>f_size</th>\n",
              "      <th>f_multitasking</th>\n",
              "      <th>f_noise</th>\n",
              "      <th>f_performance</th>\n",
              "      <th>f_neural</th>\n",
              "      <th>f_synergy</th>\n",
              "      <th>f_performanceloss</th>\n",
              "      <th>m1_consideration</th>\n",
              "      <th>m1_purchase</th>\n",
              "      <th>gender</th>\n",
              "      <th>age_group</th>\n",
              "      <th>income_group</th>\n",
              "      <th>status</th>\n",
              "      <th>domain</th>\n",
              "    </tr>\n",
              "  </thead>\n",
              "  <tbody>\n",
              "    <tr>\n",
              "      <th>0</th>\n",
              "      <td>No</td>\n",
              "      <td>4</td>\n",
              "      <td>8</td>\n",
              "      <td>PC</td>\n",
              "      <td>0</td>\n",
              "      <td>No</td>\n",
              "      <td>5</td>\n",
              "      <td>4</td>\n",
              "      <td>3</td>\n",
              "      <td>4</td>\n",
              "      <td>4</td>\n",
              "      <td>2</td>\n",
              "      <td>2</td>\n",
              "      <td>1</td>\n",
              "      <td>1</td>\n",
              "      <td>1</td>\n",
              "      <td>Yes</td>\n",
              "      <td>Male</td>\n",
              "      <td>2</td>\n",
              "      <td>2</td>\n",
              "      <td>Student</td>\n",
              "      <td>Science</td>\n",
              "    </tr>\n",
              "    <tr>\n",
              "      <th>1</th>\n",
              "      <td>Yes</td>\n",
              "      <td>2</td>\n",
              "      <td>4</td>\n",
              "      <td>PC</td>\n",
              "      <td>1</td>\n",
              "      <td>No</td>\n",
              "      <td>5</td>\n",
              "      <td>5</td>\n",
              "      <td>5</td>\n",
              "      <td>3</td>\n",
              "      <td>4</td>\n",
              "      <td>5</td>\n",
              "      <td>2</td>\n",
              "      <td>2</td>\n",
              "      <td>4</td>\n",
              "      <td>2</td>\n",
              "      <td>No</td>\n",
              "      <td>Male</td>\n",
              "      <td>2</td>\n",
              "      <td>3</td>\n",
              "      <td>Employed</td>\n",
              "      <td>Finance</td>\n",
              "    </tr>\n",
              "    <tr>\n",
              "      <th>2</th>\n",
              "      <td>Yes</td>\n",
              "      <td>5</td>\n",
              "      <td>6</td>\n",
              "      <td>PC</td>\n",
              "      <td>0</td>\n",
              "      <td>No</td>\n",
              "      <td>3</td>\n",
              "      <td>4</td>\n",
              "      <td>2</td>\n",
              "      <td>4</td>\n",
              "      <td>1</td>\n",
              "      <td>4</td>\n",
              "      <td>2</td>\n",
              "      <td>2</td>\n",
              "      <td>2</td>\n",
              "      <td>4</td>\n",
              "      <td>Yes</td>\n",
              "      <td>Male</td>\n",
              "      <td>2</td>\n",
              "      <td>2</td>\n",
              "      <td>Student</td>\n",
              "      <td>IT &amp; Technology</td>\n",
              "    </tr>\n",
              "    <tr>\n",
              "      <th>3</th>\n",
              "      <td>Yes</td>\n",
              "      <td>2</td>\n",
              "      <td>6</td>\n",
              "      <td>Apple</td>\n",
              "      <td>4</td>\n",
              "      <td>No</td>\n",
              "      <td>4</td>\n",
              "      <td>3</td>\n",
              "      <td>3</td>\n",
              "      <td>4</td>\n",
              "      <td>4</td>\n",
              "      <td>4</td>\n",
              "      <td>4</td>\n",
              "      <td>4</td>\n",
              "      <td>3</td>\n",
              "      <td>2</td>\n",
              "      <td>No</td>\n",
              "      <td>Female</td>\n",
              "      <td>2</td>\n",
              "      <td>2</td>\n",
              "      <td>Student</td>\n",
              "      <td>Arts &amp; Culture</td>\n",
              "    </tr>\n",
              "    <tr>\n",
              "      <th>4</th>\n",
              "      <td>Yes</td>\n",
              "      <td>4</td>\n",
              "      <td>4</td>\n",
              "      <td>Apple</td>\n",
              "      <td>7</td>\n",
              "      <td>Yes</td>\n",
              "      <td>5</td>\n",
              "      <td>3</td>\n",
              "      <td>3</td>\n",
              "      <td>4</td>\n",
              "      <td>4</td>\n",
              "      <td>5</td>\n",
              "      <td>3</td>\n",
              "      <td>4</td>\n",
              "      <td>4</td>\n",
              "      <td>4</td>\n",
              "      <td>Yes</td>\n",
              "      <td>Male</td>\n",
              "      <td>5</td>\n",
              "      <td>7</td>\n",
              "      <td>Employed</td>\n",
              "      <td>Hospitality</td>\n",
              "    </tr>\n",
              "    <tr>\n",
              "      <th>...</th>\n",
              "      <td>...</td>\n",
              "      <td>...</td>\n",
              "      <td>...</td>\n",
              "      <td>...</td>\n",
              "      <td>...</td>\n",
              "      <td>...</td>\n",
              "      <td>...</td>\n",
              "      <td>...</td>\n",
              "      <td>...</td>\n",
              "      <td>...</td>\n",
              "      <td>...</td>\n",
              "      <td>...</td>\n",
              "      <td>...</td>\n",
              "      <td>...</td>\n",
              "      <td>...</td>\n",
              "      <td>...</td>\n",
              "      <td>...</td>\n",
              "      <td>...</td>\n",
              "      <td>...</td>\n",
              "      <td>...</td>\n",
              "      <td>...</td>\n",
              "      <td>...</td>\n",
              "    </tr>\n",
              "    <tr>\n",
              "      <th>128</th>\n",
              "      <td>Yes</td>\n",
              "      <td>5</td>\n",
              "      <td>0</td>\n",
              "      <td>PC</td>\n",
              "      <td>1</td>\n",
              "      <td>Yes</td>\n",
              "      <td>5</td>\n",
              "      <td>3</td>\n",
              "      <td>3</td>\n",
              "      <td>5</td>\n",
              "      <td>4</td>\n",
              "      <td>5</td>\n",
              "      <td>5</td>\n",
              "      <td>3</td>\n",
              "      <td>3</td>\n",
              "      <td>5</td>\n",
              "      <td>Yes</td>\n",
              "      <td>Male</td>\n",
              "      <td>3</td>\n",
              "      <td>3</td>\n",
              "      <td>Student</td>\n",
              "      <td>Engineering</td>\n",
              "    </tr>\n",
              "    <tr>\n",
              "      <th>129</th>\n",
              "      <td>Yes</td>\n",
              "      <td>5</td>\n",
              "      <td>8</td>\n",
              "      <td>Apple</td>\n",
              "      <td>5</td>\n",
              "      <td>Yes</td>\n",
              "      <td>4</td>\n",
              "      <td>3</td>\n",
              "      <td>2</td>\n",
              "      <td>4</td>\n",
              "      <td>4</td>\n",
              "      <td>4</td>\n",
              "      <td>2</td>\n",
              "      <td>3</td>\n",
              "      <td>1</td>\n",
              "      <td>5</td>\n",
              "      <td>Yes</td>\n",
              "      <td>Male</td>\n",
              "      <td>3</td>\n",
              "      <td>5</td>\n",
              "      <td>Employed</td>\n",
              "      <td>Administration &amp; Public Services</td>\n",
              "    </tr>\n",
              "    <tr>\n",
              "      <th>130</th>\n",
              "      <td>Yes</td>\n",
              "      <td>4</td>\n",
              "      <td>0</td>\n",
              "      <td>Apple</td>\n",
              "      <td>8</td>\n",
              "      <td>Yes</td>\n",
              "      <td>5</td>\n",
              "      <td>4</td>\n",
              "      <td>3</td>\n",
              "      <td>5</td>\n",
              "      <td>5</td>\n",
              "      <td>5</td>\n",
              "      <td>4</td>\n",
              "      <td>4</td>\n",
              "      <td>5</td>\n",
              "      <td>5</td>\n",
              "      <td>Yes</td>\n",
              "      <td>Female</td>\n",
              "      <td>2</td>\n",
              "      <td>3</td>\n",
              "      <td>Student</td>\n",
              "      <td>Marketing</td>\n",
              "    </tr>\n",
              "    <tr>\n",
              "      <th>131</th>\n",
              "      <td>Yes</td>\n",
              "      <td>5</td>\n",
              "      <td>5</td>\n",
              "      <td>Apple</td>\n",
              "      <td>4</td>\n",
              "      <td>Yes</td>\n",
              "      <td>5</td>\n",
              "      <td>3</td>\n",
              "      <td>4</td>\n",
              "      <td>4</td>\n",
              "      <td>4</td>\n",
              "      <td>5</td>\n",
              "      <td>2</td>\n",
              "      <td>3</td>\n",
              "      <td>3</td>\n",
              "      <td>5</td>\n",
              "      <td>Yes</td>\n",
              "      <td>Female</td>\n",
              "      <td>2</td>\n",
              "      <td>2</td>\n",
              "      <td>Student</td>\n",
              "      <td>IT &amp; Technology</td>\n",
              "    </tr>\n",
              "    <tr>\n",
              "      <th>132</th>\n",
              "      <td>Yes</td>\n",
              "      <td>5</td>\n",
              "      <td>2</td>\n",
              "      <td>Apple</td>\n",
              "      <td>7</td>\n",
              "      <td>No</td>\n",
              "      <td>4</td>\n",
              "      <td>3</td>\n",
              "      <td>4</td>\n",
              "      <td>4</td>\n",
              "      <td>3</td>\n",
              "      <td>5</td>\n",
              "      <td>4</td>\n",
              "      <td>1</td>\n",
              "      <td>3</td>\n",
              "      <td>5</td>\n",
              "      <td>No</td>\n",
              "      <td>Male</td>\n",
              "      <td>5</td>\n",
              "      <td>7</td>\n",
              "      <td>Employed</td>\n",
              "      <td>Finance</td>\n",
              "    </tr>\n",
              "  </tbody>\n",
              "</table>\n",
              "<p>133 rows × 22 columns</p>\n",
              "</div>"
            ],
            "text/plain": [
              "    trust_apple  interest_computers  ...    status                            domain\n",
              "0            No                   4  ...   Student                           Science\n",
              "1           Yes                   2  ...  Employed                           Finance\n",
              "2           Yes                   5  ...   Student                   IT & Technology\n",
              "3           Yes                   2  ...   Student                    Arts & Culture\n",
              "4           Yes                   4  ...  Employed                       Hospitality\n",
              "..          ...                 ...  ...       ...                               ...\n",
              "128         Yes                   5  ...   Student                       Engineering\n",
              "129         Yes                   5  ...  Employed  Administration & Public Services\n",
              "130         Yes                   4  ...   Student                         Marketing\n",
              "131         Yes                   5  ...   Student                   IT & Technology\n",
              "132         Yes                   5  ...  Employed                           Finance\n",
              "\n",
              "[133 rows x 22 columns]"
            ]
          },
          "metadata": {
            "tags": []
          },
          "execution_count": 42
        }
      ]
    },
    {
      "cell_type": "code",
      "metadata": {
        "colab": {
          "base_uri": "https://localhost:8080/"
        },
        "id": "24q-eWlcdmSw",
        "outputId": "18e4502a-75b2-40a1-aee6-012a1d271acc"
      },
      "source": [
        "#displaying the columns\n",
        "apple.columns"
      ],
      "execution_count": 43,
      "outputs": [
        {
          "output_type": "execute_result",
          "data": {
            "text/plain": [
              "Index(['trust_apple', 'interest_computers', 'age_computer', 'user_pcmac',\n",
              "       'appleproducts_count', 'familiarity_m1', 'f_batterylife', 'f_price',\n",
              "       'f_size', 'f_multitasking', 'f_noise', 'f_performance', 'f_neural',\n",
              "       'f_synergy', 'f_performanceloss', 'm1_consideration', 'm1_purchase',\n",
              "       'gender', 'age_group', 'income_group', 'status', 'domain'],\n",
              "      dtype='object')"
            ]
          },
          "metadata": {
            "tags": []
          },
          "execution_count": 43
        }
      ]
    },
    {
      "cell_type": "code",
      "metadata": {
        "colab": {
          "base_uri": "https://localhost:8080/"
        },
        "id": "NZybade5xfDJ",
        "outputId": "fc336c92-20ef-4529-8d56-a3dbcf721706"
      },
      "source": [
        "#viewing the values for the status column\n",
        "apple['status'].unique()"
      ],
      "execution_count": 44,
      "outputs": [
        {
          "output_type": "execute_result",
          "data": {
            "text/plain": [
              "array(['Student', 'Employed', 'Retired', 'Student ant employed',\n",
              "       'Unemployed', 'Self-Employed'], dtype=object)"
            ]
          },
          "metadata": {
            "tags": []
          },
          "execution_count": 44
        }
      ]
    },
    {
      "cell_type": "code",
      "metadata": {
        "colab": {
          "base_uri": "https://localhost:8080/"
        },
        "id": "-9wMbGvmZfnE",
        "outputId": "e2e9b9f0-05b8-4027-f7ce-836b604f17bc"
      },
      "source": [
        "#viewing the values for the domain column \n",
        "apple['domain'].unique()"
      ],
      "execution_count": 45,
      "outputs": [
        {
          "output_type": "execute_result",
          "data": {
            "text/plain": [
              "array(['Science', 'Finance', 'IT & Technology', 'Arts & Culture',\n",
              "       'Hospitality', 'Politics', 'Social Sciences',\n",
              "       'Administration & Public Services', 'Education', 'Engineering',\n",
              "       'Marketing', 'Healthcare', 'Business', 'Retired', 'Economics',\n",
              "       'Law', 'Agriculture', 'Communication ', 'Realestate', 'Logistics',\n",
              "       'Consulting ', 'Retail'], dtype=object)"
            ]
          },
          "metadata": {
            "tags": []
          },
          "execution_count": 45
        }
      ]
    },
    {
      "cell_type": "code",
      "metadata": {
        "colab": {
          "base_uri": "https://localhost:8080/"
        },
        "id": "P1fU0Lo5Zv4T",
        "outputId": "2885d887-16f4-45b0-8139-e563497c8d00"
      },
      "source": [
        "#viewing the values for age (in this dataset the age is grouped and encoded)\n",
        "apple['age_group'].unique()"
      ],
      "execution_count": 46,
      "outputs": [
        {
          "output_type": "execute_result",
          "data": {
            "text/plain": [
              "array([ 2,  5,  6,  8,  4,  3,  1, 10,  9])"
            ]
          },
          "metadata": {
            "tags": []
          },
          "execution_count": 46
        }
      ]
    },
    {
      "cell_type": "code",
      "metadata": {
        "colab": {
          "base_uri": "https://localhost:8080/"
        },
        "id": "n3E4z5X_ZwkD",
        "outputId": "f8650379-8358-4e2d-8a9d-47380abc0ee8"
      },
      "source": [
        "#viewing the values for income (in this dataset the age is grouped and encoded)\n",
        "apple['income_group'].unique()"
      ],
      "execution_count": 47,
      "outputs": [
        {
          "output_type": "execute_result",
          "data": {
            "text/plain": [
              "array([2, 3, 7, 6, 1, 4, 5])"
            ]
          },
          "metadata": {
            "tags": []
          },
          "execution_count": 47
        }
      ]
    },
    {
      "cell_type": "code",
      "metadata": {
        "id": "V36-XOpUvndr",
        "colab": {
          "base_uri": "https://localhost:8080/",
          "height": 439
        },
        "outputId": "df707eac-3e5b-4988-befa-ec792fd15d67"
      },
      "source": [
        "#cleaning and prepping the dataset\n",
        "\n",
        "#defining df\n",
        "df = apple\n",
        "\n",
        "#renameing columns so they are easier to work with\n",
        "df.rename(columns={\"appleproducts_count\": \"apple_count\", \"f_batterylife\": \"f_battery\", \"f_multitasking\": \"f_multi\", \"f_performanceloss\": \"f_perloss\", \"age_group\": \"age\", \"income_group\": \"income\"}, inplace=True)\n",
        "\n",
        "#replacing values/encoding\n",
        "#pd.get_dummies(df['column']) could be another way to do this\n",
        "df = df.replace(['Yes'],'1')\n",
        "df = df.replace(['No'],'0')\n",
        "df = df.replace(['PC'],'2')\n",
        "df = df.replace(['Apple'],'1')\n",
        "df = df.replace(['Male'],'2')\n",
        "df = df.replace(['Female'],'1')\n",
        "df = df.replace(['Hp'],'2')\n",
        "df = df.replace(['Other'],'2')\n",
        "\n",
        "#weird value 'Student ant employed' put in student group\n",
        "df['status'] = df['status'].replace(['Student','Employed','Retired','Student ant employed','Unemployed','Self-Employed'],['0','1','2','1','3','4'])\n",
        "\n",
        "#retired is the last value (21)\n",
        "df['domain'] = df['domain'].replace(['Science','Finance','IT & Technology','Arts & Culture','Hospitality','Politics','Social Sciences','Administration & Public Services','Education','Engineering','Marketing','Healthcare','Business','Retired','Economics','Law','Agriculture','Communication ','Realestate','Logistics','Consulting ','Retail'],['0','1','2','3','4','5','6','7','8','9','10','11','12','21','13','14','15','16','17','18','29','20'])\n",
        "\n",
        "#average value of each group instead of groups for income \n",
        "df['income'] = df['income'].replace({1:0, 2:7500, 3:22500, 4:37500, 5:52500, 6:67500, 7:75000})\n",
        "\n",
        "#average value of each group instead of groups for age\n",
        "df['age'] = df['age'].replace({1:18, 2:23, 3:28, 4:33, 5:38, 6:43, 7:48, 8:53, 9:58, 10:60})\n",
        "\n",
        "#reordering columns to put our (y) 'm1_purchase' at the end (to be able to easily index with -1 afterwards)\n",
        "column_names = [\"trust_apple\", \"interest_computers\", \"age_computer\",\t\"user_pcmac\",\t\"apple_count\",\t\"familiarity_m1\",\t\"f_battery\",\t\"f_price\",\t\"f_size\",\t\"f_multi\",\t\"f_noise\",\t\"f_performance\",\t\"f_neural\",\t\"f_synergy\",\t\"f_perloss\",\t\"m1_consideration\",\t\"gender\",\t\"age\",\t\"income\",\t\"status\",\t\"domain\", \"m1_purchase\"]\n",
        "df = df.reindex(columns=column_names)\n",
        "\n",
        "#displaying the new df\n",
        "df"
      ],
      "execution_count": 48,
      "outputs": [
        {
          "output_type": "execute_result",
          "data": {
            "text/html": [
              "<div>\n",
              "<style scoped>\n",
              "    .dataframe tbody tr th:only-of-type {\n",
              "        vertical-align: middle;\n",
              "    }\n",
              "\n",
              "    .dataframe tbody tr th {\n",
              "        vertical-align: top;\n",
              "    }\n",
              "\n",
              "    .dataframe thead th {\n",
              "        text-align: right;\n",
              "    }\n",
              "</style>\n",
              "<table border=\"1\" class=\"dataframe\">\n",
              "  <thead>\n",
              "    <tr style=\"text-align: right;\">\n",
              "      <th></th>\n",
              "      <th>trust_apple</th>\n",
              "      <th>interest_computers</th>\n",
              "      <th>age_computer</th>\n",
              "      <th>user_pcmac</th>\n",
              "      <th>apple_count</th>\n",
              "      <th>familiarity_m1</th>\n",
              "      <th>f_battery</th>\n",
              "      <th>f_price</th>\n",
              "      <th>f_size</th>\n",
              "      <th>f_multi</th>\n",
              "      <th>f_noise</th>\n",
              "      <th>f_performance</th>\n",
              "      <th>f_neural</th>\n",
              "      <th>f_synergy</th>\n",
              "      <th>f_perloss</th>\n",
              "      <th>m1_consideration</th>\n",
              "      <th>gender</th>\n",
              "      <th>age</th>\n",
              "      <th>income</th>\n",
              "      <th>status</th>\n",
              "      <th>domain</th>\n",
              "      <th>m1_purchase</th>\n",
              "    </tr>\n",
              "  </thead>\n",
              "  <tbody>\n",
              "    <tr>\n",
              "      <th>0</th>\n",
              "      <td>0</td>\n",
              "      <td>4</td>\n",
              "      <td>8</td>\n",
              "      <td>2</td>\n",
              "      <td>0</td>\n",
              "      <td>0</td>\n",
              "      <td>5</td>\n",
              "      <td>4</td>\n",
              "      <td>3</td>\n",
              "      <td>4</td>\n",
              "      <td>4</td>\n",
              "      <td>2</td>\n",
              "      <td>2</td>\n",
              "      <td>1</td>\n",
              "      <td>1</td>\n",
              "      <td>1</td>\n",
              "      <td>2</td>\n",
              "      <td>23</td>\n",
              "      <td>7500</td>\n",
              "      <td>0</td>\n",
              "      <td>0</td>\n",
              "      <td>1</td>\n",
              "    </tr>\n",
              "    <tr>\n",
              "      <th>1</th>\n",
              "      <td>1</td>\n",
              "      <td>2</td>\n",
              "      <td>4</td>\n",
              "      <td>2</td>\n",
              "      <td>1</td>\n",
              "      <td>0</td>\n",
              "      <td>5</td>\n",
              "      <td>5</td>\n",
              "      <td>5</td>\n",
              "      <td>3</td>\n",
              "      <td>4</td>\n",
              "      <td>5</td>\n",
              "      <td>2</td>\n",
              "      <td>2</td>\n",
              "      <td>4</td>\n",
              "      <td>2</td>\n",
              "      <td>2</td>\n",
              "      <td>23</td>\n",
              "      <td>22500</td>\n",
              "      <td>1</td>\n",
              "      <td>1</td>\n",
              "      <td>0</td>\n",
              "    </tr>\n",
              "    <tr>\n",
              "      <th>2</th>\n",
              "      <td>1</td>\n",
              "      <td>5</td>\n",
              "      <td>6</td>\n",
              "      <td>2</td>\n",
              "      <td>0</td>\n",
              "      <td>0</td>\n",
              "      <td>3</td>\n",
              "      <td>4</td>\n",
              "      <td>2</td>\n",
              "      <td>4</td>\n",
              "      <td>1</td>\n",
              "      <td>4</td>\n",
              "      <td>2</td>\n",
              "      <td>2</td>\n",
              "      <td>2</td>\n",
              "      <td>4</td>\n",
              "      <td>2</td>\n",
              "      <td>23</td>\n",
              "      <td>7500</td>\n",
              "      <td>0</td>\n",
              "      <td>2</td>\n",
              "      <td>1</td>\n",
              "    </tr>\n",
              "    <tr>\n",
              "      <th>3</th>\n",
              "      <td>1</td>\n",
              "      <td>2</td>\n",
              "      <td>6</td>\n",
              "      <td>1</td>\n",
              "      <td>4</td>\n",
              "      <td>0</td>\n",
              "      <td>4</td>\n",
              "      <td>3</td>\n",
              "      <td>3</td>\n",
              "      <td>4</td>\n",
              "      <td>4</td>\n",
              "      <td>4</td>\n",
              "      <td>4</td>\n",
              "      <td>4</td>\n",
              "      <td>3</td>\n",
              "      <td>2</td>\n",
              "      <td>1</td>\n",
              "      <td>23</td>\n",
              "      <td>7500</td>\n",
              "      <td>0</td>\n",
              "      <td>3</td>\n",
              "      <td>0</td>\n",
              "    </tr>\n",
              "    <tr>\n",
              "      <th>4</th>\n",
              "      <td>1</td>\n",
              "      <td>4</td>\n",
              "      <td>4</td>\n",
              "      <td>1</td>\n",
              "      <td>7</td>\n",
              "      <td>1</td>\n",
              "      <td>5</td>\n",
              "      <td>3</td>\n",
              "      <td>3</td>\n",
              "      <td>4</td>\n",
              "      <td>4</td>\n",
              "      <td>5</td>\n",
              "      <td>3</td>\n",
              "      <td>4</td>\n",
              "      <td>4</td>\n",
              "      <td>4</td>\n",
              "      <td>2</td>\n",
              "      <td>38</td>\n",
              "      <td>75000</td>\n",
              "      <td>1</td>\n",
              "      <td>4</td>\n",
              "      <td>1</td>\n",
              "    </tr>\n",
              "    <tr>\n",
              "      <th>...</th>\n",
              "      <td>...</td>\n",
              "      <td>...</td>\n",
              "      <td>...</td>\n",
              "      <td>...</td>\n",
              "      <td>...</td>\n",
              "      <td>...</td>\n",
              "      <td>...</td>\n",
              "      <td>...</td>\n",
              "      <td>...</td>\n",
              "      <td>...</td>\n",
              "      <td>...</td>\n",
              "      <td>...</td>\n",
              "      <td>...</td>\n",
              "      <td>...</td>\n",
              "      <td>...</td>\n",
              "      <td>...</td>\n",
              "      <td>...</td>\n",
              "      <td>...</td>\n",
              "      <td>...</td>\n",
              "      <td>...</td>\n",
              "      <td>...</td>\n",
              "      <td>...</td>\n",
              "    </tr>\n",
              "    <tr>\n",
              "      <th>128</th>\n",
              "      <td>1</td>\n",
              "      <td>5</td>\n",
              "      <td>0</td>\n",
              "      <td>2</td>\n",
              "      <td>1</td>\n",
              "      <td>1</td>\n",
              "      <td>5</td>\n",
              "      <td>3</td>\n",
              "      <td>3</td>\n",
              "      <td>5</td>\n",
              "      <td>4</td>\n",
              "      <td>5</td>\n",
              "      <td>5</td>\n",
              "      <td>3</td>\n",
              "      <td>3</td>\n",
              "      <td>5</td>\n",
              "      <td>2</td>\n",
              "      <td>28</td>\n",
              "      <td>22500</td>\n",
              "      <td>0</td>\n",
              "      <td>9</td>\n",
              "      <td>1</td>\n",
              "    </tr>\n",
              "    <tr>\n",
              "      <th>129</th>\n",
              "      <td>1</td>\n",
              "      <td>5</td>\n",
              "      <td>8</td>\n",
              "      <td>1</td>\n",
              "      <td>5</td>\n",
              "      <td>1</td>\n",
              "      <td>4</td>\n",
              "      <td>3</td>\n",
              "      <td>2</td>\n",
              "      <td>4</td>\n",
              "      <td>4</td>\n",
              "      <td>4</td>\n",
              "      <td>2</td>\n",
              "      <td>3</td>\n",
              "      <td>1</td>\n",
              "      <td>5</td>\n",
              "      <td>2</td>\n",
              "      <td>28</td>\n",
              "      <td>52500</td>\n",
              "      <td>1</td>\n",
              "      <td>7</td>\n",
              "      <td>1</td>\n",
              "    </tr>\n",
              "    <tr>\n",
              "      <th>130</th>\n",
              "      <td>1</td>\n",
              "      <td>4</td>\n",
              "      <td>0</td>\n",
              "      <td>1</td>\n",
              "      <td>8</td>\n",
              "      <td>1</td>\n",
              "      <td>5</td>\n",
              "      <td>4</td>\n",
              "      <td>3</td>\n",
              "      <td>5</td>\n",
              "      <td>5</td>\n",
              "      <td>5</td>\n",
              "      <td>4</td>\n",
              "      <td>4</td>\n",
              "      <td>5</td>\n",
              "      <td>5</td>\n",
              "      <td>1</td>\n",
              "      <td>23</td>\n",
              "      <td>22500</td>\n",
              "      <td>0</td>\n",
              "      <td>10</td>\n",
              "      <td>1</td>\n",
              "    </tr>\n",
              "    <tr>\n",
              "      <th>131</th>\n",
              "      <td>1</td>\n",
              "      <td>5</td>\n",
              "      <td>5</td>\n",
              "      <td>1</td>\n",
              "      <td>4</td>\n",
              "      <td>1</td>\n",
              "      <td>5</td>\n",
              "      <td>3</td>\n",
              "      <td>4</td>\n",
              "      <td>4</td>\n",
              "      <td>4</td>\n",
              "      <td>5</td>\n",
              "      <td>2</td>\n",
              "      <td>3</td>\n",
              "      <td>3</td>\n",
              "      <td>5</td>\n",
              "      <td>1</td>\n",
              "      <td>23</td>\n",
              "      <td>7500</td>\n",
              "      <td>0</td>\n",
              "      <td>2</td>\n",
              "      <td>1</td>\n",
              "    </tr>\n",
              "    <tr>\n",
              "      <th>132</th>\n",
              "      <td>1</td>\n",
              "      <td>5</td>\n",
              "      <td>2</td>\n",
              "      <td>1</td>\n",
              "      <td>7</td>\n",
              "      <td>0</td>\n",
              "      <td>4</td>\n",
              "      <td>3</td>\n",
              "      <td>4</td>\n",
              "      <td>4</td>\n",
              "      <td>3</td>\n",
              "      <td>5</td>\n",
              "      <td>4</td>\n",
              "      <td>1</td>\n",
              "      <td>3</td>\n",
              "      <td>5</td>\n",
              "      <td>2</td>\n",
              "      <td>38</td>\n",
              "      <td>75000</td>\n",
              "      <td>1</td>\n",
              "      <td>1</td>\n",
              "      <td>0</td>\n",
              "    </tr>\n",
              "  </tbody>\n",
              "</table>\n",
              "<p>133 rows × 22 columns</p>\n",
              "</div>"
            ],
            "text/plain": [
              "    trust_apple  interest_computers  age_computer  ... status  domain m1_purchase\n",
              "0             0                   4             8  ...      0       0           1\n",
              "1             1                   2             4  ...      1       1           0\n",
              "2             1                   5             6  ...      0       2           1\n",
              "3             1                   2             6  ...      0       3           0\n",
              "4             1                   4             4  ...      1       4           1\n",
              "..          ...                 ...           ...  ...    ...     ...         ...\n",
              "128           1                   5             0  ...      0       9           1\n",
              "129           1                   5             8  ...      1       7           1\n",
              "130           1                   4             0  ...      0      10           1\n",
              "131           1                   5             5  ...      0       2           1\n",
              "132           1                   5             2  ...      1       1           0\n",
              "\n",
              "[133 rows x 22 columns]"
            ]
          },
          "metadata": {
            "tags": []
          },
          "execution_count": 48
        }
      ]
    },
    {
      "cell_type": "code",
      "metadata": {
        "colab": {
          "base_uri": "https://localhost:8080/"
        },
        "id": "0sBmI3UMlw4f",
        "outputId": "70586320-cc20-4a98-e5d0-41cacb708d24"
      },
      "source": [
        "#changing all datatypes to int & checking if columns have nulls\n",
        "#df.nunique().value_counts()        #to check the counts of each column\n",
        "#df.isnull().sum()                  #to get the null count\n",
        "df[['trust_apple', 'user_pcmac']] = df[['trust_apple', 'user_pcmac']].astype(int)\n",
        "df[['familiarity_m1', 'gender']] = df[['familiarity_m1', 'gender']].astype(int)\n",
        "df[['income', 'domain', 'm1_purchase', 'status']] = df[['income', 'domain', 'm1_purchase', 'status']].astype(int)\n",
        "df.info()"
      ],
      "execution_count": 49,
      "outputs": [
        {
          "output_type": "stream",
          "text": [
            "<class 'pandas.core.frame.DataFrame'>\n",
            "RangeIndex: 133 entries, 0 to 132\n",
            "Data columns (total 22 columns):\n",
            " #   Column              Non-Null Count  Dtype\n",
            "---  ------              --------------  -----\n",
            " 0   trust_apple         133 non-null    int64\n",
            " 1   interest_computers  133 non-null    int64\n",
            " 2   age_computer        133 non-null    int64\n",
            " 3   user_pcmac          133 non-null    int64\n",
            " 4   apple_count         133 non-null    int64\n",
            " 5   familiarity_m1      133 non-null    int64\n",
            " 6   f_battery           133 non-null    int64\n",
            " 7   f_price             133 non-null    int64\n",
            " 8   f_size              133 non-null    int64\n",
            " 9   f_multi             133 non-null    int64\n",
            " 10  f_noise             133 non-null    int64\n",
            " 11  f_performance       133 non-null    int64\n",
            " 12  f_neural            133 non-null    int64\n",
            " 13  f_synergy           133 non-null    int64\n",
            " 14  f_perloss           133 non-null    int64\n",
            " 15  m1_consideration    133 non-null    int64\n",
            " 16  gender              133 non-null    int64\n",
            " 17  age                 133 non-null    int64\n",
            " 18  income              133 non-null    int64\n",
            " 19  status              133 non-null    int64\n",
            " 20  domain              133 non-null    int64\n",
            " 21  m1_purchase         133 non-null    int64\n",
            "dtypes: int64(22)\n",
            "memory usage: 23.0 KB\n"
          ],
          "name": "stdout"
        }
      ]
    },
    {
      "cell_type": "code",
      "metadata": {
        "colab": {
          "base_uri": "https://localhost:8080/",
          "height": 297
        },
        "id": "E7Xpe11xIELj",
        "outputId": "832aa7d8-3155-47dc-8318-e81af42d7361"
      },
      "source": [
        "#exploring the data\n",
        "#investigating the distribution of 'm1_purchase', our (y) variable \n",
        "sns.countplot(x='m1_purchase', data = df, palette='Set3')"
      ],
      "execution_count": 50,
      "outputs": [
        {
          "output_type": "execute_result",
          "data": {
            "text/plain": [
              "<matplotlib.axes._subplots.AxesSubplot at 0x7f607276ce90>"
            ]
          },
          "metadata": {
            "tags": []
          },
          "execution_count": 50
        },
        {
          "output_type": "display_data",
          "data": {
            "image/png": "[encoded data removed]",
            "text/plain": [
              "<Figure size 432x288 with 1 Axes>"
            ]
          },
          "metadata": {
            "tags": [],
            "needs_background": "light"
          }
        }
      ]
    },
    {
      "cell_type": "code",
      "metadata": {
        "id": "ghkPMs9QTxOe",
        "colab": {
          "base_uri": "https://localhost:8080/",
          "height": 1000
        },
        "outputId": "048035dd-ad73-4672-dc64-063fcc56bf22"
      },
      "source": [
        "#exploring all the features in relation to 'm1_purchase'\n",
        "#from this visualisation we can see which columns might be too similar to be useful for our model\n",
        "features = [\"trust_apple\", \"interest_computers\", \"age_computer\",\t\n",
        "            \"user_pcmac\",\t\"apple_count\",\t\"familiarity_m1\",\t\"f_battery\",\t\n",
        "            \"f_price\",\t\"f_size\",\t\"f_multi\",\t\"f_noise\",\t\"f_performance\",\t\n",
        "            \"f_neural\",\t\"f_synergy\",\t\"f_perloss\",\t\"m1_consideration\",\t\n",
        "            \"gender\",\t\"age\",\t\"income\",\t\"status\",\t\"domain\"]\n",
        "\n",
        "for f in features:\n",
        "    sns.countplot(x = f, data = df, palette = 'Set3', hue = 'm1_purchase')\n",
        "    plt.show()"
      ],
      "execution_count": 51,
      "outputs": [
        {
          "output_type": "display_data",
          "data": {
            "image/png": "[encoded data removed]",
            "text/plain": [
              "<Figure size 432x288 with 1 Axes>"
            ]
          },
          "metadata": {
            "tags": [],
            "needs_background": "light"
          }
        },
        {
          "output_type": "display_data",
          "data": {
            "image/png": "[encoded data removed]",
            "text/plain": [
              "<Figure size 432x288 with 1 Axes>"
            ]
          },
          "metadata": {
            "tags": [],
            "needs_background": "light"
          }
        },
        {
          "output_type": "display_data",
          "data": {
            "image/png": "[encoded data removed]",
            "text/plain": [
              "<Figure size 432x288 with 1 Axes>"
            ]
          },
          "metadata": {
            "tags": [],
            "needs_background": "light"
          }
        },
        {
          "output_type": "display_data",
          "data": {
            "image/png": "[encoded data removed]",
            "text/plain": [
              "<Figure size 432x288 with 1 Axes>"
            ]
          },
          "metadata": {
            "tags": [],
            "needs_background": "light"
          }
        },
        {
          "output_type": "display_data",
          "data": {
            "image/png": "[encoded data removed]",
            "text/plain": [
              "<Figure size 432x288 with 1 Axes>"
            ]
          },
          "metadata": {
            "tags": [],
            "needs_background": "light"
          }
        },
        {
          "output_type": "display_data",
          "data": {
            "image/png": "[encoded data removed]",
            "text/plain": [
              "<Figure size 432x288 with 1 Axes>"
            ]
          },
          "metadata": {
            "tags": [],
            "needs_background": "light"
          }
        },
        {
          "output_type": "display_data",
          "data": {
            "image/png": "[encoded data removed]",
            "text/plain": [
              "<Figure size 432x288 with 1 Axes>"
            ]
          },
          "metadata": {
            "tags": [],
            "needs_background": "light"
          }
        },
        {
          "output_type": "display_data",
          "data": {
            "image/png": "[encoded data removed]",
            "text/plain": [
              "<Figure size 432x288 with 1 Axes>"
            ]
          },
          "metadata": {
            "tags": [],
            "needs_background": "light"
          }
        },
        {
          "output_type": "display_data",
          "data": {
            "image/png": "[encoded data removed]",
            "text/plain": [
              "<Figure size 432x288 with 1 Axes>"
            ]
          },
          "metadata": {
            "tags": [],
            "needs_background": "light"
          }
        },
        {
          "output_type": "display_data",
          "data": {
            "image/png": "[encoded data removed]",
            "text/plain": [
              "<Figure size 432x288 with 1 Axes>"
            ]
          },
          "metadata": {
            "tags": [],
            "needs_background": "light"
          }
        },
        {
          "output_type": "display_data",
          "data": {
            "image/png": "[encoded data removed]",
            "text/plain": [
              "<Figure size 432x288 with 1 Axes>"
            ]
          },
          "metadata": {
            "tags": [],
            "needs_background": "light"
          }
        },
        {
          "output_type": "display_data",
          "data": {
            "image/png": "[encoded data removed]",
            "text/plain": [
              "<Figure size 432x288 with 1 Axes>"
            ]
          },
          "metadata": {
            "tags": [],
            "needs_background": "light"
          }
        },
        {
          "output_type": "display_data",
          "data": {
            "image/png": "[encoded data removed]",
            "text/plain": [
              "<Figure size 432x288 with 1 Axes>"
            ]
          },
          "metadata": {
            "tags": [],
            "needs_background": "light"
          }
        },
        {
          "output_type": "display_data",
          "data": {
            "image/png": "[encoded data removed]",
            "text/plain": [
              "<Figure size 432x288 with 1 Axes>"
            ]
          },
          "metadata": {
            "tags": [],
            "needs_background": "light"
          }
        },
        {
          "output_type": "display_data",
          "data": {
            "image/png": "[encoded data removed]",
            "text/plain": [
              "<Figure size 432x288 with 1 Axes>"
            ]
          },
          "metadata": {
            "tags": [],
            "needs_background": "light"
          }
        },
        {
          "output_type": "display_data",
          "data": {
            "image/png": "[encoded data removed]",
            "text/plain": [
              "<Figure size 432x288 with 1 Axes>"
            ]
          },
          "metadata": {
            "tags": [],
            "needs_background": "light"
          }
        },
        {
          "output_type": "display_data",
          "data": {
            "image/png": "[encoded data removed]",
            "text/plain": [
              "<Figure size 432x288 with 1 Axes>"
            ]
          },
          "metadata": {
            "tags": [],
            "needs_background": "light"
          }
        },
        {
          "output_type": "display_data",
          "data": {
            "image/png": "[encoded data removed]",
            "text/plain": [
              "<Figure size 432x288 with 1 Axes>"
            ]
          },
          "metadata": {
            "tags": [],
            "needs_background": "light"
          }
        },
        {
          "output_type": "display_data",
          "data": {
            "image/png": "[encoded data removed]",
            "text/plain": [
              "<Figure size 432x288 with 1 Axes>"
            ]
          },
          "metadata": {
            "tags": [],
            "needs_background": "light"
          }
        },
        {
          "output_type": "display_data",
          "data": {
            "image/png": "[encoded data removed]",
            "text/plain": [
              "<Figure size 432x288 with 1 Axes>"
            ]
          },
          "metadata": {
            "tags": [],
            "needs_background": "light"
          }
        },
        {
          "output_type": "display_data",
          "data": {
            "image/png": "[encoded data removed]",
            "text/plain": [
              "<Figure size 432x288 with 1 Axes>"
            ]
          },
          "metadata": {
            "tags": [],
            "needs_background": "light"
          }
        }
      ]
    },
    {
      "cell_type": "code",
      "metadata": {
        "colab": {
          "base_uri": "https://localhost:8080/",
          "height": 1000
        },
        "id": "JBRn6sOj6AtN",
        "outputId": "f67e69a2-715a-4b9e-93d5-2d7a55aaf7a0"
      },
      "source": [
        "#using seaborn to display a complete correlation materix of the features\n",
        "corrmat = df.corr()\n",
        "top_corr_features = corrmat.index\n",
        "plt.figure(figsize=(21,21))\n",
        "#plot heat map\n",
        "g=sns.heatmap(df[top_corr_features].corr(),annot=True,cmap=\"coolwarm\")\n",
        "#RdYlGn to change theme of correlation materix "
      ],
      "execution_count": 52,
      "outputs": [
        {
          "output_type": "display_data",
          "data": {
            "image/png": "[encoded data removed]",
            "text/plain": [
              "<Figure size 1512x1512 with 2 Axes>"
            ]
          },
          "metadata": {
            "tags": [],
            "needs_background": "light"
          }
        }
      ]
    },
    {
      "cell_type": "markdown",
      "metadata": {
        "id": "ocbvhAXPpAeM"
      },
      "source": [
        "**Applying Feature Selection (dropping columns)**\n",
        "\n",
        "In the following section **feature selection** methodology is applied to be able to find the columns (X) that have the strongest relation to (y). The goal of this is to figure out which columns to drop in the dataset before fitting the data to the logsitic regression algorithm. In this example, an algorithm from 'DecisionTreeClassifier' is used to give each feature a score in relation to (y).\n",
        "The score is calculated as the decrease in node impurity weighted by the probability of reaching that node. The node probability can be calculated by the number of samples that reach the node, divided by the total number of samples. The higher the value the more important the feature. Below are some general benefits of applying feature selection. \n",
        "\n",
        "Feature Selection: \n",
        "*   Reduces Overfitting: less redundant data means less opportunity to make decisions based on noise.\n",
        "*   Improves Accuracy: less misleading data means modeling accuracy improves.\n",
        "*   Reduces Training Time: fewer data points reduce algorithm complexity and algorithms train faster."
      ]
    },
    {
      "cell_type": "code",
      "metadata": {
        "colab": {
          "base_uri": "https://localhost:8080/"
        },
        "id": "OKm8Brs64VwH",
        "outputId": "73e27e7f-8f91-4d93-a411-52c8780569da"
      },
      "source": [
        "\n",
        "#split X (dependant variable) and Y (independant variables)\n",
        "X = df.drop('m1_purchase', axis = 1).values\n",
        "Y = df['m1_purchase']\n",
        "print(X.shape)\n",
        "print(Y.shape)"
      ],
      "execution_count": 53,
      "outputs": [
        {
          "output_type": "stream",
          "text": [
            "(133, 21)\n",
            "(133,)\n"
          ],
          "name": "stdout"
        }
      ]
    },
    {
      "cell_type": "code",
      "metadata": {
        "colab": {
          "base_uri": "https://localhost:8080/"
        },
        "id": "7QI1byUrRQj6",
        "outputId": "a04c8775-ba38-426b-e353-ab74862ea733"
      },
      "source": [
        "#running feature importance with DecisionTreeClassifier\n",
        "#entropy is used to measure disorder in the columns\n",
        "#max_depth defines the maximum depth of the tree/max features\n",
        "dt = DecisionTreeClassifier(random_state = 15, criterion = 'entropy', max_depth = 10)\n",
        "dt.fit(X,Y)"
      ],
      "execution_count": 54,
      "outputs": [
        {
          "output_type": "execute_result",
          "data": {
            "text/plain": [
              "DecisionTreeClassifier(ccp_alpha=0.0, class_weight=None, criterion='entropy',\n",
              "                       max_depth=10, max_features=None, max_leaf_nodes=None,\n",
              "                       min_impurity_decrease=0.0, min_impurity_split=None,\n",
              "                       min_samples_leaf=1, min_samples_split=2,\n",
              "                       min_weight_fraction_leaf=0.0, presort='deprecated',\n",
              "                       random_state=15, splitter='best')"
            ]
          },
          "metadata": {
            "tags": []
          },
          "execution_count": 54
        }
      ]
    },
    {
      "cell_type": "code",
      "metadata": {
        "colab": {
          "base_uri": "https://localhost:8080/",
          "height": 700
        },
        "id": "tGR00sLbAyR1",
        "outputId": "ac706ea2-9c21-4d5e-c072-04ba7f23d9e3"
      },
      "source": [
        "#creating empty lists to append the values \n",
        "col = []\n",
        "fi = []\n",
        "\n",
        "#the parameter axis=1 refer to columns, while 0 refers to rows\n",
        "for i, column in enumerate(df.drop('m1_purchase', axis = 1)):\n",
        "  col.append(column)\n",
        "  fi.append(dt.feature_importances_[i])\n",
        "\n",
        "#displaying fi_df as a new dataframe displaying the feature importances \n",
        "fi_df = zip(col, fi)\n",
        "fi_df = pd.DataFrame(fi_df, columns = ['feature', 'feature_importance'])\n",
        "\n",
        "#sorting the feature importance in ascending order\n",
        "fi_df = fi_df.sort_values('feature_importance', ascending = False).reset_index()\n",
        "\n",
        "#the last 5 columns have no relation to y at all\n",
        "fi_df"
      ],
      "execution_count": 55,
      "outputs": [
        {
          "output_type": "execute_result",
          "data": {
            "text/html": [
              "<div>\n",
              "<style scoped>\n",
              "    .dataframe tbody tr th:only-of-type {\n",
              "        vertical-align: middle;\n",
              "    }\n",
              "\n",
              "    .dataframe tbody tr th {\n",
              "        vertical-align: top;\n",
              "    }\n",
              "\n",
              "    .dataframe thead th {\n",
              "        text-align: right;\n",
              "    }\n",
              "</style>\n",
              "<table border=\"1\" class=\"dataframe\">\n",
              "  <thead>\n",
              "    <tr style=\"text-align: right;\">\n",
              "      <th></th>\n",
              "      <th>index</th>\n",
              "      <th>feature</th>\n",
              "      <th>feature_importance</th>\n",
              "    </tr>\n",
              "  </thead>\n",
              "  <tbody>\n",
              "    <tr>\n",
              "      <th>0</th>\n",
              "      <td>14</td>\n",
              "      <td>f_perloss</td>\n",
              "      <td>0.121983</td>\n",
              "    </tr>\n",
              "    <tr>\n",
              "      <th>1</th>\n",
              "      <td>15</td>\n",
              "      <td>m1_consideration</td>\n",
              "      <td>0.118166</td>\n",
              "    </tr>\n",
              "    <tr>\n",
              "      <th>2</th>\n",
              "      <td>3</td>\n",
              "      <td>user_pcmac</td>\n",
              "      <td>0.108523</td>\n",
              "    </tr>\n",
              "    <tr>\n",
              "      <th>3</th>\n",
              "      <td>20</td>\n",
              "      <td>domain</td>\n",
              "      <td>0.089777</td>\n",
              "    </tr>\n",
              "    <tr>\n",
              "      <th>4</th>\n",
              "      <td>13</td>\n",
              "      <td>f_synergy</td>\n",
              "      <td>0.088404</td>\n",
              "    </tr>\n",
              "    <tr>\n",
              "      <th>5</th>\n",
              "      <td>2</td>\n",
              "      <td>age_computer</td>\n",
              "      <td>0.082403</td>\n",
              "    </tr>\n",
              "    <tr>\n",
              "      <th>6</th>\n",
              "      <td>18</td>\n",
              "      <td>income</td>\n",
              "      <td>0.078410</td>\n",
              "    </tr>\n",
              "    <tr>\n",
              "      <th>7</th>\n",
              "      <td>10</td>\n",
              "      <td>f_noise</td>\n",
              "      <td>0.068669</td>\n",
              "    </tr>\n",
              "    <tr>\n",
              "      <th>8</th>\n",
              "      <td>1</td>\n",
              "      <td>interest_computers</td>\n",
              "      <td>0.044750</td>\n",
              "    </tr>\n",
              "    <tr>\n",
              "      <th>9</th>\n",
              "      <td>11</td>\n",
              "      <td>f_performance</td>\n",
              "      <td>0.044592</td>\n",
              "    </tr>\n",
              "    <tr>\n",
              "      <th>10</th>\n",
              "      <td>0</td>\n",
              "      <td>trust_apple</td>\n",
              "      <td>0.036014</td>\n",
              "    </tr>\n",
              "    <tr>\n",
              "      <th>11</th>\n",
              "      <td>8</td>\n",
              "      <td>f_size</td>\n",
              "      <td>0.032832</td>\n",
              "    </tr>\n",
              "    <tr>\n",
              "      <th>12</th>\n",
              "      <td>16</td>\n",
              "      <td>gender</td>\n",
              "      <td>0.027771</td>\n",
              "    </tr>\n",
              "    <tr>\n",
              "      <th>13</th>\n",
              "      <td>12</td>\n",
              "      <td>f_neural</td>\n",
              "      <td>0.027318</td>\n",
              "    </tr>\n",
              "    <tr>\n",
              "      <th>14</th>\n",
              "      <td>7</td>\n",
              "      <td>f_price</td>\n",
              "      <td>0.023191</td>\n",
              "    </tr>\n",
              "    <tr>\n",
              "      <th>15</th>\n",
              "      <td>19</td>\n",
              "      <td>status</td>\n",
              "      <td>0.007196</td>\n",
              "    </tr>\n",
              "    <tr>\n",
              "      <th>16</th>\n",
              "      <td>9</td>\n",
              "      <td>f_multi</td>\n",
              "      <td>0.000000</td>\n",
              "    </tr>\n",
              "    <tr>\n",
              "      <th>17</th>\n",
              "      <td>6</td>\n",
              "      <td>f_battery</td>\n",
              "      <td>0.000000</td>\n",
              "    </tr>\n",
              "    <tr>\n",
              "      <th>18</th>\n",
              "      <td>5</td>\n",
              "      <td>familiarity_m1</td>\n",
              "      <td>0.000000</td>\n",
              "    </tr>\n",
              "    <tr>\n",
              "      <th>19</th>\n",
              "      <td>17</td>\n",
              "      <td>age</td>\n",
              "      <td>0.000000</td>\n",
              "    </tr>\n",
              "    <tr>\n",
              "      <th>20</th>\n",
              "      <td>4</td>\n",
              "      <td>apple_count</td>\n",
              "      <td>0.000000</td>\n",
              "    </tr>\n",
              "  </tbody>\n",
              "</table>\n",
              "</div>"
            ],
            "text/plain": [
              "    index             feature  feature_importance\n",
              "0      14           f_perloss            0.121983\n",
              "1      15    m1_consideration            0.118166\n",
              "2       3          user_pcmac            0.108523\n",
              "3      20              domain            0.089777\n",
              "4      13           f_synergy            0.088404\n",
              "5       2        age_computer            0.082403\n",
              "6      18              income            0.078410\n",
              "7      10             f_noise            0.068669\n",
              "8       1  interest_computers            0.044750\n",
              "9      11       f_performance            0.044592\n",
              "10      0         trust_apple            0.036014\n",
              "11      8              f_size            0.032832\n",
              "12     16              gender            0.027771\n",
              "13     12            f_neural            0.027318\n",
              "14      7             f_price            0.023191\n",
              "15     19              status            0.007196\n",
              "16      9             f_multi            0.000000\n",
              "17      6           f_battery            0.000000\n",
              "18      5      familiarity_m1            0.000000\n",
              "19     17                 age            0.000000\n",
              "20      4         apple_count            0.000000"
            ]
          },
          "metadata": {
            "tags": []
          },
          "execution_count": 55
        }
      ]
    },
    {
      "cell_type": "code",
      "metadata": {
        "colab": {
          "base_uri": "https://localhost:8080/"
        },
        "id": "chwNdx-SFzqP",
        "outputId": "19af3d4b-2390-4b0d-a934-171851cf3eb7"
      },
      "source": [
        "#keep our 8 most important features (x)\n",
        "columns_to_keep = fi_df['feature'][0:8]\n",
        "\n",
        "#original dataframe \n",
        "print(df.shape)\n",
        "\n",
        "#new dataframe with only the features we want (x)\n",
        "print(df[columns_to_keep].shape)"
      ],
      "execution_count": 56,
      "outputs": [
        {
          "output_type": "stream",
          "text": [
            "(133, 22)\n",
            "(133, 8)\n"
          ],
          "name": "stdout"
        }
      ]
    },
    {
      "cell_type": "code",
      "metadata": {
        "colab": {
          "base_uri": "https://localhost:8080/"
        },
        "id": "ssxFs42CyIWH",
        "outputId": "66b7924b-0cca-4e80-ff24-30c88d5579ad"
      },
      "source": [
        "#displaying 8 'most important' features that we decided to use\n",
        "columns_to_keep"
      ],
      "execution_count": 57,
      "outputs": [
        {
          "output_type": "execute_result",
          "data": {
            "text/plain": [
              "0           f_perloss\n",
              "1    m1_consideration\n",
              "2          user_pcmac\n",
              "3              domain\n",
              "4           f_synergy\n",
              "5        age_computer\n",
              "6              income\n",
              "7             f_noise\n",
              "Name: feature, dtype: object"
            ]
          },
          "metadata": {
            "tags": []
          },
          "execution_count": 57
        }
      ]
    },
    {
      "cell_type": "code",
      "metadata": {
        "colab": {
          "base_uri": "https://localhost:8080/",
          "height": 419
        },
        "id": "HdaYDVNjyWqc",
        "outputId": "79c44f06-c36a-4e06-9b9c-5669bd33d0a7"
      },
      "source": [
        "#displaying the 8 most important features with data\n",
        "df[columns_to_keep]"
      ],
      "execution_count": 58,
      "outputs": [
        {
          "output_type": "execute_result",
          "data": {
            "text/html": [
              "<div>\n",
              "<style scoped>\n",
              "    .dataframe tbody tr th:only-of-type {\n",
              "        vertical-align: middle;\n",
              "    }\n",
              "\n",
              "    .dataframe tbody tr th {\n",
              "        vertical-align: top;\n",
              "    }\n",
              "\n",
              "    .dataframe thead th {\n",
              "        text-align: right;\n",
              "    }\n",
              "</style>\n",
              "<table border=\"1\" class=\"dataframe\">\n",
              "  <thead>\n",
              "    <tr style=\"text-align: right;\">\n",
              "      <th></th>\n",
              "      <th>f_perloss</th>\n",
              "      <th>m1_consideration</th>\n",
              "      <th>user_pcmac</th>\n",
              "      <th>domain</th>\n",
              "      <th>f_synergy</th>\n",
              "      <th>age_computer</th>\n",
              "      <th>income</th>\n",
              "      <th>f_noise</th>\n",
              "    </tr>\n",
              "  </thead>\n",
              "  <tbody>\n",
              "    <tr>\n",
              "      <th>0</th>\n",
              "      <td>1</td>\n",
              "      <td>1</td>\n",
              "      <td>2</td>\n",
              "      <td>0</td>\n",
              "      <td>1</td>\n",
              "      <td>8</td>\n",
              "      <td>7500</td>\n",
              "      <td>4</td>\n",
              "    </tr>\n",
              "    <tr>\n",
              "      <th>1</th>\n",
              "      <td>4</td>\n",
              "      <td>2</td>\n",
              "      <td>2</td>\n",
              "      <td>1</td>\n",
              "      <td>2</td>\n",
              "      <td>4</td>\n",
              "      <td>22500</td>\n",
              "      <td>4</td>\n",
              "    </tr>\n",
              "    <tr>\n",
              "      <th>2</th>\n",
              "      <td>2</td>\n",
              "      <td>4</td>\n",
              "      <td>2</td>\n",
              "      <td>2</td>\n",
              "      <td>2</td>\n",
              "      <td>6</td>\n",
              "      <td>7500</td>\n",
              "      <td>1</td>\n",
              "    </tr>\n",
              "    <tr>\n",
              "      <th>3</th>\n",
              "      <td>3</td>\n",
              "      <td>2</td>\n",
              "      <td>1</td>\n",
              "      <td>3</td>\n",
              "      <td>4</td>\n",
              "      <td>6</td>\n",
              "      <td>7500</td>\n",
              "      <td>4</td>\n",
              "    </tr>\n",
              "    <tr>\n",
              "      <th>4</th>\n",
              "      <td>4</td>\n",
              "      <td>4</td>\n",
              "      <td>1</td>\n",
              "      <td>4</td>\n",
              "      <td>4</td>\n",
              "      <td>4</td>\n",
              "      <td>75000</td>\n",
              "      <td>4</td>\n",
              "    </tr>\n",
              "    <tr>\n",
              "      <th>...</th>\n",
              "      <td>...</td>\n",
              "      <td>...</td>\n",
              "      <td>...</td>\n",
              "      <td>...</td>\n",
              "      <td>...</td>\n",
              "      <td>...</td>\n",
              "      <td>...</td>\n",
              "      <td>...</td>\n",
              "    </tr>\n",
              "    <tr>\n",
              "      <th>128</th>\n",
              "      <td>3</td>\n",
              "      <td>5</td>\n",
              "      <td>2</td>\n",
              "      <td>9</td>\n",
              "      <td>3</td>\n",
              "      <td>0</td>\n",
              "      <td>22500</td>\n",
              "      <td>4</td>\n",
              "    </tr>\n",
              "    <tr>\n",
              "      <th>129</th>\n",
              "      <td>1</td>\n",
              "      <td>5</td>\n",
              "      <td>1</td>\n",
              "      <td>7</td>\n",
              "      <td>3</td>\n",
              "      <td>8</td>\n",
              "      <td>52500</td>\n",
              "      <td>4</td>\n",
              "    </tr>\n",
              "    <tr>\n",
              "      <th>130</th>\n",
              "      <td>5</td>\n",
              "      <td>5</td>\n",
              "      <td>1</td>\n",
              "      <td>10</td>\n",
              "      <td>4</td>\n",
              "      <td>0</td>\n",
              "      <td>22500</td>\n",
              "      <td>5</td>\n",
              "    </tr>\n",
              "    <tr>\n",
              "      <th>131</th>\n",
              "      <td>3</td>\n",
              "      <td>5</td>\n",
              "      <td>1</td>\n",
              "      <td>2</td>\n",
              "      <td>3</td>\n",
              "      <td>5</td>\n",
              "      <td>7500</td>\n",
              "      <td>4</td>\n",
              "    </tr>\n",
              "    <tr>\n",
              "      <th>132</th>\n",
              "      <td>3</td>\n",
              "      <td>5</td>\n",
              "      <td>1</td>\n",
              "      <td>1</td>\n",
              "      <td>1</td>\n",
              "      <td>2</td>\n",
              "      <td>75000</td>\n",
              "      <td>3</td>\n",
              "    </tr>\n",
              "  </tbody>\n",
              "</table>\n",
              "<p>133 rows × 8 columns</p>\n",
              "</div>"
            ],
            "text/plain": [
              "     f_perloss  m1_consideration  user_pcmac  ...  age_computer  income  f_noise\n",
              "0            1                 1           2  ...             8    7500        4\n",
              "1            4                 2           2  ...             4   22500        4\n",
              "2            2                 4           2  ...             6    7500        1\n",
              "3            3                 2           1  ...             6    7500        4\n",
              "4            4                 4           1  ...             4   75000        4\n",
              "..         ...               ...         ...  ...           ...     ...      ...\n",
              "128          3                 5           2  ...             0   22500        4\n",
              "129          1                 5           1  ...             8   52500        4\n",
              "130          5                 5           1  ...             0   22500        5\n",
              "131          3                 5           1  ...             5    7500        4\n",
              "132          3                 5           1  ...             2   75000        3\n",
              "\n",
              "[133 rows x 8 columns]"
            ]
          },
          "metadata": {
            "tags": []
          },
          "execution_count": 58
        }
      ]
    },
    {
      "cell_type": "code",
      "metadata": {
        "colab": {
          "base_uri": "https://localhost:8080/"
        },
        "id": "GCmzi3krIxAK",
        "outputId": "da39aeb5-ec45-4466-898e-daa7d815606f"
      },
      "source": [
        "#just to show another method of feature selection based on chi square\n",
        "#this might be a better selection, but we chose to go with the other one\n",
        "\n",
        "#feature selection based on chi square \n",
        "from sklearn.feature_selection import SelectKBest\n",
        "from sklearn.feature_selection import chi2\n",
        "X = df.iloc[:,0:21]  #independent columns\n",
        "y = df.iloc[:,-1]    #target column i.e price range\n",
        "#apply SelectKBest class to extract top 10 best features\n",
        "bestfeatures = SelectKBest(score_func=chi2, k=10)\n",
        "fit = bestfeatures.fit(X,y)\n",
        "dfscores = pd.DataFrame(fit.scores_)\n",
        "dfcolumns = pd.DataFrame(X.columns)\n",
        "#concat two dataframes for better visualization \n",
        "featureScores = pd.concat([dfcolumns,dfscores],axis=1)\n",
        "featureScores.columns = ['Features','Score']  #naming the dataframe columns\n",
        "print(featureScores.nlargest(10,'Score'))  #print 10 best features"
      ],
      "execution_count": 59,
      "outputs": [
        {
          "output_type": "stream",
          "text": [
            "            Features         Score\n",
            "18            income  34033.123101\n",
            "4        apple_count     14.365739\n",
            "15  m1_consideration      7.509093\n",
            "2       age_computer      4.648991\n",
            "20            domain      3.193524\n",
            "3         user_pcmac      3.056364\n",
            "5     familiarity_m1      2.436015\n",
            "13         f_synergy      1.631870\n",
            "17               age      1.331542\n",
            "0        trust_apple      1.216288\n"
          ],
          "name": "stdout"
        }
      ]
    },
    {
      "cell_type": "markdown",
      "metadata": {
        "id": "pKvmnHM6BJ3W"
      },
      "source": [
        "**Algorithm: Logistic Regression (Classification)**\n",
        "\n",
        "As our input is one y ('m1_purchase'), and multiple x, the logistic regression algorithm can help us predict which customers (which features) are most likely to buy the new m1 mac. The output will be a probability for each feature to be 0 or 1, where 0 = False and 1 = True.\n",
        "\n",
        "\n",
        "Logistic regression is a commonly used algorithm for classification problems that works by fitting an 'S' shaped function on the data.  Specifically, through a Sigmoid function, the data is normalized and given a percentage (%) between 0 and 1 of the feature being classified in one class. \n",
        "\n",
        "\n",
        "\n",
        "\n"
      ]
    },
    {
      "cell_type": "code",
      "metadata": {
        "colab": {
          "base_uri": "https://localhost:8080/"
        },
        "id": "4VdFHYHfGkVJ",
        "outputId": "1d0b8dfe-6be6-4364-9b29-2126d2d1bee1"
      },
      "source": [
        "#split the data into X & y\n",
        "#y = np.array(df[\"Height\"]).reshape(-1,1)\n",
        "\n",
        "X = df[columns_to_keep].values\n",
        "X.astype(int)\n",
        "#X = X.reshape(-1,1)\n",
        "\n",
        "y = np.array(df['m1_purchase']).reshape(-1,1)\n",
        "y = y.astype(int)\n",
        "\n",
        "print(X.shape)\n",
        "print(y.shape)"
      ],
      "execution_count": 60,
      "outputs": [
        {
          "output_type": "stream",
          "text": [
            "(133, 8)\n",
            "(133, 1)\n"
          ],
          "name": "stdout"
        }
      ]
    },
    {
      "cell_type": "code",
      "metadata": {
        "id": "uw9A4hnmWZRf"
      },
      "source": [
        "#creating a training and test set \n",
        "#the train and test size is set to the same size as it gave the best accuracy score\n",
        "x_train, x_test, y_train, y_test = train_test_split(X, y, train_size = 0.20, test_size = 0.20,random_state=25)\n",
        "\n",
        "#scaling and normalizing the data (this also imporved the score)\n",
        "sc = StandardScaler() \n",
        "x_train = sc.fit_transform(x_train)\n",
        "x_test = sc.transform(x_test)"
      ],
      "execution_count": 61,
      "outputs": []
    },
    {
      "cell_type": "code",
      "metadata": {
        "colab": {
          "base_uri": "https://localhost:8080/"
        },
        "id": "f9UaQ9bX6kiF",
        "outputId": "9a8533c0-4670-42fe-a0d2-c00006d9dd6e"
      },
      "source": [
        "#checking the shape of the train and test set\n",
        "print(y_train.shape)\n",
        "print(x_train.shape)\n",
        "print(y_test.shape)\n",
        "print(x_test.shape)"
      ],
      "execution_count": 62,
      "outputs": [
        {
          "output_type": "stream",
          "text": [
            "(26, 1)\n",
            "(26, 8)\n",
            "(27, 1)\n",
            "(27, 8)\n"
          ],
          "name": "stdout"
        }
      ]
    },
    {
      "cell_type": "code",
      "metadata": {
        "colab": {
          "base_uri": "https://localhost:8080/"
        },
        "id": "yeP7jjNJ6bsb",
        "outputId": "17f74a32-e93c-41ef-de78-5cbe744036b0"
      },
      "source": [
        "#training my model \n",
        "log_reg = LogisticRegression(random_state=20, multi_class='multinomial')\n",
        "log_reg.fit(x_train, np.ravel(y_train,order='C'))"
      ],
      "execution_count": 63,
      "outputs": [
        {
          "output_type": "execute_result",
          "data": {
            "text/plain": [
              "LogisticRegression(C=1.0, class_weight=None, dual=False, fit_intercept=True,\n",
              "                   intercept_scaling=1, l1_ratio=None, max_iter=100,\n",
              "                   multi_class='multinomial', n_jobs=None, penalty='l2',\n",
              "                   random_state=20, solver='lbfgs', tol=0.0001, verbose=0,\n",
              "                   warm_start=False)"
            ]
          },
          "metadata": {
            "tags": []
          },
          "execution_count": 63
        }
      ]
    },
    {
      "cell_type": "code",
      "metadata": {
        "colab": {
          "base_uri": "https://localhost:8080/"
        },
        "id": "LQW-5UpN61zy",
        "outputId": "ef305bda-f07e-446d-cfb4-7cbb72360fb5"
      },
      "source": [
        "#checking the accuray of our model\n",
        "#'score' returns the mean accuracy on the given test data and label\n",
        "\n",
        "#the training accuracy\n",
        "score_train = log_reg.score(x_train, y_train)\n",
        "\n",
        "#the testing accuracy\n",
        "score_test = log_reg.score(x_test, y_test)\n",
        "\n",
        "#after tuning the random state of log_reg and traintestsplit this is the best accuracy that we got\n",
        "print(f'The Training Accuracy is: {round(score_train*100, 2)} %')\n",
        "print(f'The Testing Accuracy is: {round(score_test*100, 2)} %')"
      ],
      "execution_count": 64,
      "outputs": [
        {
          "output_type": "stream",
          "text": [
            "The Training Accuracy is: 92.31 %\n",
            "The Testing Accuracy is: 81.48 %\n"
          ],
          "name": "stdout"
        }
      ]
    },
    {
      "cell_type": "code",
      "metadata": {
        "colab": {
          "base_uri": "https://localhost:8080/"
        },
        "id": "HUbG328ajDNW",
        "outputId": "db36dec2-1f6d-4450-8598-30b60d2c7b65"
      },
      "source": [
        "#with k - fold validation we receive a testing accuracy of 87% which is higher than the one achived on the normal test set\n",
        "kfold = model_selection.KFold(n_splits=10)\n",
        "model_kfold = LogisticRegression()\n",
        "results_kfold = model_selection.cross_val_score(model_kfold, x_test, np.ravel(y_test,order='C'), cv=kfold)\n",
        "print(f'The K-fold Testing Accuracy Is: {round(results_kfold.mean()*100.0, 2)} %')"
      ],
      "execution_count": 65,
      "outputs": [
        {
          "output_type": "stream",
          "text": [
            "The K-fold Testing Accuracy Is: 86.67 %\n"
          ],
          "name": "stdout"
        }
      ]
    },
    {
      "cell_type": "code",
      "metadata": {
        "colab": {
          "base_uri": "https://localhost:8080/"
        },
        "id": "R59SQ0K_0V_S",
        "outputId": "404a0eaa-1d0c-4834-bd5a-6f8251f48212"
      },
      "source": [
        "#print the tunable parameters\n",
        "params = log_reg.get_params()\n",
        "print(params)"
      ],
      "execution_count": 66,
      "outputs": [
        {
          "output_type": "stream",
          "text": [
            "{'C': 1.0, 'class_weight': None, 'dual': False, 'fit_intercept': True, 'intercept_scaling': 1, 'l1_ratio': None, 'max_iter': 100, 'multi_class': 'multinomial', 'n_jobs': None, 'penalty': 'l2', 'random_state': 20, 'solver': 'lbfgs', 'tol': 0.0001, 'verbose': 0, 'warm_start': False}\n"
          ],
          "name": "stdout"
        }
      ]
    },
    {
      "cell_type": "code",
      "metadata": {
        "id": "TAYPht5Z-mEd"
      },
      "source": [
        "#making predictions\n",
        "#specific predictions can also be made by indexing\n",
        "y_pred = log_reg.predict(x_test)"
      ],
      "execution_count": 67,
      "outputs": []
    },
    {
      "cell_type": "code",
      "metadata": {
        "colab": {
          "base_uri": "https://localhost:8080/"
        },
        "id": "3oM2yFsMdB1x",
        "outputId": "ea68cad6-1a59-43f3-e167-2c89de120bfa"
      },
      "source": [
        "#predicted values based on the training set \n",
        "print(f'\\nPredicted m1 purchases: {y_pred}')"
      ],
      "execution_count": 68,
      "outputs": [
        {
          "output_type": "stream",
          "text": [
            "\n",
            "Predicted m1 purchases: [1 1 1 0 1 1 0 1 1 0 1 1 1 1 1 1 1 1 1 0 1 1 1 1 1 0 1]\n"
          ],
          "name": "stdout"
        }
      ]
    },
    {
      "cell_type": "code",
      "metadata": {
        "colab": {
          "base_uri": "https://localhost:8080/"
        },
        "id": "WxTm2GqPddkx",
        "outputId": "d704d765-8a0a-402d-a15e-ddff7a1fb4ce"
      },
      "source": [
        "#actual values of y \n",
        "print(f'Real m1 purchases: {y_test.ravel()}')"
      ],
      "execution_count": 69,
      "outputs": [
        {
          "output_type": "stream",
          "text": [
            "Real m1 purchases: [1 1 0 0 1 1 1 1 1 0 1 1 1 1 0 1 1 1 1 1 0 1 1 1 1 0 1]\n"
          ],
          "name": "stdout"
        }
      ]
    },
    {
      "cell_type": "code",
      "metadata": {
        "colab": {
          "base_uri": "https://localhost:8080/"
        },
        "id": "37HyFJxIy65I",
        "outputId": "ab4d162e-657d-49bc-be8d-7786fc627e18"
      },
      "source": [
        "#printing the model parameters \n",
        "print('Intercept: \\n', log_reg.intercept_)\n",
        "print('Coefficients: \\n', log_reg.coef_)"
      ],
      "execution_count": 70,
      "outputs": [
        {
          "output_type": "stream",
          "text": [
            "Intercept: \n",
            " [0.80665753]\n",
            "Coefficients: \n",
            " [[-0.54492456  0.32249184 -0.61505633 -0.53191456  0.62302438 -0.37628924\n",
            "  -0.12636243  0.33257459]]\n"
          ],
          "name": "stdout"
        }
      ]
    },
    {
      "cell_type": "code",
      "metadata": {
        "colab": {
          "base_uri": "https://localhost:8080/"
        },
        "id": "4YPUUWHn-y6e",
        "outputId": "46535a2d-138e-420b-b643-19fbc5e9092c"
      },
      "source": [
        "#shape of coefficient and intercept \n",
        "print(log_reg.coef_.shape) \n",
        "print(log_reg.intercept_.shape) "
      ],
      "execution_count": 71,
      "outputs": [
        {
          "output_type": "stream",
          "text": [
            "(1, 8)\n",
            "(1,)\n"
          ],
          "name": "stdout"
        }
      ]
    },
    {
      "cell_type": "code",
      "metadata": {
        "colab": {
          "base_uri": "https://localhost:8080/",
          "height": 886
        },
        "id": "TjSm_vLOfNdU",
        "outputId": "bbcfb0ab-8871-44a3-834f-6c4f2d0929f2"
      },
      "source": [
        "#the predicted probabilities of data instances being classified as 1 (customers will purchase m1) when the model is applied on the test set\n",
        "log = log_reg.predict_proba(x_test)[:,1].reshape(-1,1)\n",
        "df_prob = pd.DataFrame(log, columns = ['probability_of_purchase'])\n",
        "df_prob.probability_of_purchase = (round(df_prob.probability_of_purchase * 100, 2)).astype(str) + '%'\n",
        "df_prob.sort_values('probability_of_purchase', ascending = False).reset_index()"
      ],
      "execution_count": 72,
      "outputs": [
        {
          "output_type": "execute_result",
          "data": {
            "text/html": [
              "<div>\n",
              "<style scoped>\n",
              "    .dataframe tbody tr th:only-of-type {\n",
              "        vertical-align: middle;\n",
              "    }\n",
              "\n",
              "    .dataframe tbody tr th {\n",
              "        vertical-align: top;\n",
              "    }\n",
              "\n",
              "    .dataframe thead th {\n",
              "        text-align: right;\n",
              "    }\n",
              "</style>\n",
              "<table border=\"1\" class=\"dataframe\">\n",
              "  <thead>\n",
              "    <tr style=\"text-align: right;\">\n",
              "      <th></th>\n",
              "      <th>index</th>\n",
              "      <th>probability_of_purchase</th>\n",
              "    </tr>\n",
              "  </thead>\n",
              "  <tbody>\n",
              "    <tr>\n",
              "      <th>0</th>\n",
              "      <td>26</td>\n",
              "      <td>99.7%</td>\n",
              "    </tr>\n",
              "    <tr>\n",
              "      <th>1</th>\n",
              "      <td>12</td>\n",
              "      <td>99.68%</td>\n",
              "    </tr>\n",
              "    <tr>\n",
              "      <th>2</th>\n",
              "      <td>7</td>\n",
              "      <td>99.66%</td>\n",
              "    </tr>\n",
              "    <tr>\n",
              "      <th>3</th>\n",
              "      <td>17</td>\n",
              "      <td>99.64%</td>\n",
              "    </tr>\n",
              "    <tr>\n",
              "      <th>4</th>\n",
              "      <td>18</td>\n",
              "      <td>98.92%</td>\n",
              "    </tr>\n",
              "    <tr>\n",
              "      <th>5</th>\n",
              "      <td>15</td>\n",
              "      <td>98.51%</td>\n",
              "    </tr>\n",
              "    <tr>\n",
              "      <th>6</th>\n",
              "      <td>10</td>\n",
              "      <td>98.31%</td>\n",
              "    </tr>\n",
              "    <tr>\n",
              "      <th>7</th>\n",
              "      <td>5</td>\n",
              "      <td>97.36%</td>\n",
              "    </tr>\n",
              "    <tr>\n",
              "      <th>8</th>\n",
              "      <td>13</td>\n",
              "      <td>97.25%</td>\n",
              "    </tr>\n",
              "    <tr>\n",
              "      <th>9</th>\n",
              "      <td>21</td>\n",
              "      <td>95.62%</td>\n",
              "    </tr>\n",
              "    <tr>\n",
              "      <th>10</th>\n",
              "      <td>11</td>\n",
              "      <td>95.62%</td>\n",
              "    </tr>\n",
              "    <tr>\n",
              "      <th>11</th>\n",
              "      <td>24</td>\n",
              "      <td>93.8%</td>\n",
              "    </tr>\n",
              "    <tr>\n",
              "      <th>12</th>\n",
              "      <td>1</td>\n",
              "      <td>93.61%</td>\n",
              "    </tr>\n",
              "    <tr>\n",
              "      <th>13</th>\n",
              "      <td>8</td>\n",
              "      <td>93.61%</td>\n",
              "    </tr>\n",
              "    <tr>\n",
              "      <th>14</th>\n",
              "      <td>0</td>\n",
              "      <td>91.58%</td>\n",
              "    </tr>\n",
              "    <tr>\n",
              "      <th>15</th>\n",
              "      <td>14</td>\n",
              "      <td>90.24%</td>\n",
              "    </tr>\n",
              "    <tr>\n",
              "      <th>16</th>\n",
              "      <td>16</td>\n",
              "      <td>89.72%</td>\n",
              "    </tr>\n",
              "    <tr>\n",
              "      <th>17</th>\n",
              "      <td>23</td>\n",
              "      <td>88.96%</td>\n",
              "    </tr>\n",
              "    <tr>\n",
              "      <th>18</th>\n",
              "      <td>20</td>\n",
              "      <td>87.3%</td>\n",
              "    </tr>\n",
              "    <tr>\n",
              "      <th>19</th>\n",
              "      <td>22</td>\n",
              "      <td>78.09%</td>\n",
              "    </tr>\n",
              "    <tr>\n",
              "      <th>20</th>\n",
              "      <td>4</td>\n",
              "      <td>66.83%</td>\n",
              "    </tr>\n",
              "    <tr>\n",
              "      <th>21</th>\n",
              "      <td>2</td>\n",
              "      <td>65.83%</td>\n",
              "    </tr>\n",
              "    <tr>\n",
              "      <th>22</th>\n",
              "      <td>3</td>\n",
              "      <td>6.95%</td>\n",
              "    </tr>\n",
              "    <tr>\n",
              "      <th>23</th>\n",
              "      <td>6</td>\n",
              "      <td>43.03%</td>\n",
              "    </tr>\n",
              "    <tr>\n",
              "      <th>24</th>\n",
              "      <td>25</td>\n",
              "      <td>25.73%</td>\n",
              "    </tr>\n",
              "    <tr>\n",
              "      <th>25</th>\n",
              "      <td>9</td>\n",
              "      <td>22.02%</td>\n",
              "    </tr>\n",
              "    <tr>\n",
              "      <th>26</th>\n",
              "      <td>19</td>\n",
              "      <td>1.13%</td>\n",
              "    </tr>\n",
              "  </tbody>\n",
              "</table>\n",
              "</div>"
            ],
            "text/plain": [
              "    index probability_of_purchase\n",
              "0      26                   99.7%\n",
              "1      12                  99.68%\n",
              "2       7                  99.66%\n",
              "3      17                  99.64%\n",
              "4      18                  98.92%\n",
              "5      15                  98.51%\n",
              "6      10                  98.31%\n",
              "7       5                  97.36%\n",
              "8      13                  97.25%\n",
              "9      21                  95.62%\n",
              "10     11                  95.62%\n",
              "11     24                   93.8%\n",
              "12      1                  93.61%\n",
              "13      8                  93.61%\n",
              "14      0                  91.58%\n",
              "15     14                  90.24%\n",
              "16     16                  89.72%\n",
              "17     23                  88.96%\n",
              "18     20                   87.3%\n",
              "19     22                  78.09%\n",
              "20      4                  66.83%\n",
              "21      2                  65.83%\n",
              "22      3                   6.95%\n",
              "23      6                  43.03%\n",
              "24     25                  25.73%\n",
              "25      9                  22.02%\n",
              "26     19                   1.13%"
            ]
          },
          "metadata": {
            "tags": []
          },
          "execution_count": 72
        }
      ]
    },
    {
      "cell_type": "code",
      "metadata": {
        "colab": {
          "base_uri": "https://localhost:8080/",
          "height": 731
        },
        "id": "TrezDG-6qhKV",
        "outputId": "f62d03a6-7705-4c92-f054-1cf146c340eb"
      },
      "source": [
        "#displaying the 5 most predicted most probable puchasers (data instances) in a dataframe with their features \n",
        "#the classification for purchaser3 and purchaser4 is likely inaccurate\n",
        "user1 = df.iloc[26,:]\n",
        "user2 = df.iloc[12,:] \n",
        "user3 = df.iloc[7,:] \n",
        "user4 = df.iloc[17,:] \n",
        "user5 = df.iloc[18,:]\n",
        "\n",
        "users = zip(user1, user2, user3, user4, user5)\n",
        "users = pd.DataFrame(users, columns = ['purchaser1', 'purchaser2', 'purchaser3', 'purchaser4', 'purchaser5'])#.reset_index()\n",
        "users = users.rename(index={0: 'trust_apple', 1: 'interest_computers', 2: 'age_computer', 3: 'user_pcmac', 4: 'apple_count', 5: 'familiarity_m1', 6: 'f_battery', 7: 'f_price', 8: 'f_size', 9: 'f_multi', 10: 'f_noise', 11: 'f_performance', 12: 'f_neural', 13: 'f_synergy', 14: 'f_perloss', 15: 'm1_consideration', 16: 'gender', 17: 'age', 18: 'income', 19: 'status', 20: 'domain', 21: 'm1_purchase'})\n",
        "users"
      ],
      "execution_count": 73,
      "outputs": [
        {
          "output_type": "execute_result",
          "data": {
            "text/html": [
              "<div>\n",
              "<style scoped>\n",
              "    .dataframe tbody tr th:only-of-type {\n",
              "        vertical-align: middle;\n",
              "    }\n",
              "\n",
              "    .dataframe tbody tr th {\n",
              "        vertical-align: top;\n",
              "    }\n",
              "\n",
              "    .dataframe thead th {\n",
              "        text-align: right;\n",
              "    }\n",
              "</style>\n",
              "<table border=\"1\" class=\"dataframe\">\n",
              "  <thead>\n",
              "    <tr style=\"text-align: right;\">\n",
              "      <th></th>\n",
              "      <th>purchaser1</th>\n",
              "      <th>purchaser2</th>\n",
              "      <th>purchaser3</th>\n",
              "      <th>purchaser4</th>\n",
              "      <th>purchaser5</th>\n",
              "    </tr>\n",
              "  </thead>\n",
              "  <tbody>\n",
              "    <tr>\n",
              "      <th>trust_apple</th>\n",
              "      <td>1</td>\n",
              "      <td>1</td>\n",
              "      <td>0</td>\n",
              "      <td>0</td>\n",
              "      <td>1</td>\n",
              "    </tr>\n",
              "    <tr>\n",
              "      <th>interest_computers</th>\n",
              "      <td>4</td>\n",
              "      <td>4</td>\n",
              "      <td>3</td>\n",
              "      <td>3</td>\n",
              "      <td>4</td>\n",
              "    </tr>\n",
              "    <tr>\n",
              "      <th>age_computer</th>\n",
              "      <td>4</td>\n",
              "      <td>3</td>\n",
              "      <td>0</td>\n",
              "      <td>0</td>\n",
              "      <td>0</td>\n",
              "    </tr>\n",
              "    <tr>\n",
              "      <th>user_pcmac</th>\n",
              "      <td>1</td>\n",
              "      <td>2</td>\n",
              "      <td>2</td>\n",
              "      <td>2</td>\n",
              "      <td>1</td>\n",
              "    </tr>\n",
              "    <tr>\n",
              "      <th>apple_count</th>\n",
              "      <td>7</td>\n",
              "      <td>3</td>\n",
              "      <td>0</td>\n",
              "      <td>0</td>\n",
              "      <td>4</td>\n",
              "    </tr>\n",
              "    <tr>\n",
              "      <th>familiarity_m1</th>\n",
              "      <td>1</td>\n",
              "      <td>0</td>\n",
              "      <td>0</td>\n",
              "      <td>0</td>\n",
              "      <td>0</td>\n",
              "    </tr>\n",
              "    <tr>\n",
              "      <th>f_battery</th>\n",
              "      <td>5</td>\n",
              "      <td>5</td>\n",
              "      <td>5</td>\n",
              "      <td>5</td>\n",
              "      <td>5</td>\n",
              "    </tr>\n",
              "    <tr>\n",
              "      <th>f_price</th>\n",
              "      <td>3</td>\n",
              "      <td>3</td>\n",
              "      <td>5</td>\n",
              "      <td>5</td>\n",
              "      <td>2</td>\n",
              "    </tr>\n",
              "    <tr>\n",
              "      <th>f_size</th>\n",
              "      <td>3</td>\n",
              "      <td>4</td>\n",
              "      <td>4</td>\n",
              "      <td>4</td>\n",
              "      <td>5</td>\n",
              "    </tr>\n",
              "    <tr>\n",
              "      <th>f_multi</th>\n",
              "      <td>4</td>\n",
              "      <td>3</td>\n",
              "      <td>4</td>\n",
              "      <td>3</td>\n",
              "      <td>5</td>\n",
              "    </tr>\n",
              "    <tr>\n",
              "      <th>f_noise</th>\n",
              "      <td>4</td>\n",
              "      <td>5</td>\n",
              "      <td>3</td>\n",
              "      <td>5</td>\n",
              "      <td>5</td>\n",
              "    </tr>\n",
              "    <tr>\n",
              "      <th>f_performance</th>\n",
              "      <td>5</td>\n",
              "      <td>4</td>\n",
              "      <td>3</td>\n",
              "      <td>5</td>\n",
              "      <td>3</td>\n",
              "    </tr>\n",
              "    <tr>\n",
              "      <th>f_neural</th>\n",
              "      <td>3</td>\n",
              "      <td>1</td>\n",
              "      <td>2</td>\n",
              "      <td>4</td>\n",
              "      <td>2</td>\n",
              "    </tr>\n",
              "    <tr>\n",
              "      <th>f_synergy</th>\n",
              "      <td>4</td>\n",
              "      <td>5</td>\n",
              "      <td>2</td>\n",
              "      <td>4</td>\n",
              "      <td>3</td>\n",
              "    </tr>\n",
              "    <tr>\n",
              "      <th>f_perloss</th>\n",
              "      <td>4</td>\n",
              "      <td>4</td>\n",
              "      <td>3</td>\n",
              "      <td>4</td>\n",
              "      <td>5</td>\n",
              "    </tr>\n",
              "    <tr>\n",
              "      <th>m1_consideration</th>\n",
              "      <td>4</td>\n",
              "      <td>1</td>\n",
              "      <td>1</td>\n",
              "      <td>4</td>\n",
              "      <td>2</td>\n",
              "    </tr>\n",
              "    <tr>\n",
              "      <th>gender</th>\n",
              "      <td>2</td>\n",
              "      <td>1</td>\n",
              "      <td>2</td>\n",
              "      <td>2</td>\n",
              "      <td>1</td>\n",
              "    </tr>\n",
              "    <tr>\n",
              "      <th>age</th>\n",
              "      <td>38</td>\n",
              "      <td>28</td>\n",
              "      <td>23</td>\n",
              "      <td>23</td>\n",
              "      <td>23</td>\n",
              "    </tr>\n",
              "    <tr>\n",
              "      <th>income</th>\n",
              "      <td>75000</td>\n",
              "      <td>75000</td>\n",
              "      <td>7500</td>\n",
              "      <td>7500</td>\n",
              "      <td>0</td>\n",
              "    </tr>\n",
              "    <tr>\n",
              "      <th>status</th>\n",
              "      <td>1</td>\n",
              "      <td>1</td>\n",
              "      <td>0</td>\n",
              "      <td>0</td>\n",
              "      <td>0</td>\n",
              "    </tr>\n",
              "    <tr>\n",
              "      <th>domain</th>\n",
              "      <td>4</td>\n",
              "      <td>2</td>\n",
              "      <td>6</td>\n",
              "      <td>9</td>\n",
              "      <td>10</td>\n",
              "    </tr>\n",
              "    <tr>\n",
              "      <th>m1_purchase</th>\n",
              "      <td>1</td>\n",
              "      <td>1</td>\n",
              "      <td>0</td>\n",
              "      <td>0</td>\n",
              "      <td>1</td>\n",
              "    </tr>\n",
              "  </tbody>\n",
              "</table>\n",
              "</div>"
            ],
            "text/plain": [
              "                    purchaser1  purchaser2  purchaser3  purchaser4  purchaser5\n",
              "trust_apple                  1           1           0           0           1\n",
              "interest_computers           4           4           3           3           4\n",
              "age_computer                 4           3           0           0           0\n",
              "user_pcmac                   1           2           2           2           1\n",
              "apple_count                  7           3           0           0           4\n",
              "familiarity_m1               1           0           0           0           0\n",
              "f_battery                    5           5           5           5           5\n",
              "f_price                      3           3           5           5           2\n",
              "f_size                       3           4           4           4           5\n",
              "f_multi                      4           3           4           3           5\n",
              "f_noise                      4           5           3           5           5\n",
              "f_performance                5           4           3           5           3\n",
              "f_neural                     3           1           2           4           2\n",
              "f_synergy                    4           5           2           4           3\n",
              "f_perloss                    4           4           3           4           5\n",
              "m1_consideration             4           1           1           4           2\n",
              "gender                       2           1           2           2           1\n",
              "age                         38          28          23          23          23\n",
              "income                   75000       75000        7500        7500           0\n",
              "status                       1           1           0           0           0\n",
              "domain                       4           2           6           9          10\n",
              "m1_purchase                  1           1           0           0           1"
            ]
          },
          "metadata": {
            "tags": []
          },
          "execution_count": 73
        }
      ]
    },
    {
      "cell_type": "code",
      "metadata": {
        "colab": {
          "base_uri": "https://localhost:8080/",
          "height": 111
        },
        "id": "lIQHsJA9h0E1",
        "outputId": "760d38cf-0405-4f86-b8b4-690dbb9b096b"
      },
      "source": [
        "#confusion materix \n",
        "confmtrx = np.array(confusion_matrix(y_test, y_pred))\n",
        "\n",
        "\n",
        "cm = pd.DataFrame(confmtrx, index=['Actual Not Buyers', 'Actual Buyers'],\n",
        "columns=['Predicted Not Buyers', 'Predicted Buyers'])\n",
        "cm"
      ],
      "execution_count": 74,
      "outputs": [
        {
          "output_type": "execute_result",
          "data": {
            "text/html": [
              "<div>\n",
              "<style scoped>\n",
              "    .dataframe tbody tr th:only-of-type {\n",
              "        vertical-align: middle;\n",
              "    }\n",
              "\n",
              "    .dataframe tbody tr th {\n",
              "        vertical-align: top;\n",
              "    }\n",
              "\n",
              "    .dataframe thead th {\n",
              "        text-align: right;\n",
              "    }\n",
              "</style>\n",
              "<table border=\"1\" class=\"dataframe\">\n",
              "  <thead>\n",
              "    <tr style=\"text-align: right;\">\n",
              "      <th></th>\n",
              "      <th>Predicted Not Buyers</th>\n",
              "      <th>Predicted Buyers</th>\n",
              "    </tr>\n",
              "  </thead>\n",
              "  <tbody>\n",
              "    <tr>\n",
              "      <th>Actual Not Buyers</th>\n",
              "      <td>3</td>\n",
              "      <td>3</td>\n",
              "    </tr>\n",
              "    <tr>\n",
              "      <th>Actual Buyers</th>\n",
              "      <td>2</td>\n",
              "      <td>19</td>\n",
              "    </tr>\n",
              "  </tbody>\n",
              "</table>\n",
              "</div>"
            ],
            "text/plain": [
              "                   Predicted Not Buyers  Predicted Buyers\n",
              "Actual Not Buyers                     3                 3\n",
              "Actual Buyers                         2                19"
            ]
          },
          "metadata": {
            "tags": []
          },
          "execution_count": 74
        }
      ]
    },
    {
      "cell_type": "code",
      "metadata": {
        "colab": {
          "base_uri": "https://localhost:8080/"
        },
        "id": "Hz0BNGvB5l3R",
        "outputId": "e56d8ba9-d3bc-47e4-e410-44abbf02cae2"
      },
      "source": [
        "#calculating False Positives (FP), False Negatives (FN), True Positives (TP) & True Negatives (TN)\n",
        "\n",
        "FP = confmtrx.sum(axis=0) - np.diag(confmtrx)\n",
        "FN = confmtrx.sum(axis=1) - np.diag(confmtrx)\n",
        "TP = np.diag(confmtrx)\n",
        "TN = confmtrx.sum() - (FP + FN + TP)\n",
        "\n",
        "#true positive rate (sensitivity)\n",
        "TPR = TP / (TP + FN)\n",
        "\n",
        "#true negative (precision)\n",
        "TNR = TP / (TP + FP)\n",
        "\n",
        "#false positive rate or False alarm rate\n",
        "FPR = FP / (FP + TN)\n",
        "\n",
        "#false negative rate or Miss Rate\n",
        "FNR = FN / (FN + TP)\n",
        "\n",
        "#the averages\n",
        "print(f'The average True Positive Rate is: {round((TPR.sum()/2)*100, 2)} %')\n",
        "print(f'The average True Negative Rate is: {round((TNR.sum()/2)*100, 2)} %')\n",
        "print(f'The average False Positive Rate is: {round((FPR.sum()/2)*100, 2)} %')\n",
        "print(f'The average False Negative Rate is: {round((FNR.sum()/2)*100, 2)} %')\n"
      ],
      "execution_count": 75,
      "outputs": [
        {
          "output_type": "stream",
          "text": [
            "The average True Positive Rate is: 70.24 %\n",
            "The average True Negative Rate is: 73.18 %\n",
            "The average False Positive Rate is: 29.76 %\n",
            "The average False Negative Rate is: 29.76 %\n"
          ],
          "name": "stdout"
        }
      ]
    },
    {
      "cell_type": "code",
      "metadata": {
        "colab": {
          "base_uri": "https://localhost:8080/"
        },
        "id": "4_ZRg7-uXXJZ",
        "outputId": "6519bcc0-2467-4633-f439-14b6b348c70c"
      },
      "source": [
        "#calculating the logarithmic loss of our model\n",
        "#as log loss measurer uncertainty -> a low value equals a model of low uncertainty which is good\n",
        "print(cl('The Log Loss of the Model is {}'.format(log_loss(y_test, y_pred).round(2))))"
      ],
      "execution_count": 76,
      "outputs": [
        {
          "output_type": "stream",
          "text": [
            "The Log Loss of the Model is 6.4\u001b[0m\n"
          ],
          "name": "stdout"
        }
      ]
    },
    {
      "cell_type": "markdown",
      "metadata": {
        "id": "nw0H9yZM7o6S"
      },
      "source": [
        "In the small training and testing sets used, the algorithm classified the data instance **wrong 5/27** and **correct 22/27** times as shown in the confusion matrix. To further increase the accuracy of this model, hyper parameter tuning would need to be applied. It is also worth noting that even with optimal parameters the model might not perform better due to the data being insufficient. "
      ]
    }
  ]
}